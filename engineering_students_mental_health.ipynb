{
  "nbformat": 4,
  "nbformat_minor": 0,
  "metadata": {
    "colab": {
      "name": "engineering_students_mental_health",
      "provenance": [],
      "collapsed_sections": []
    },
    "kernelspec": {
      "name": "python3",
      "display_name": "Python 3"
    },
    "language_info": {
      "name": "python"
    }
  },
  "cells": [
    {
      "cell_type": "code",
      "execution_count": 1179,
      "metadata": {
        "colab": {
          "base_uri": "https://localhost:8080/",
          "height": 380
        },
        "id": "gu-nL7B8Y08O",
        "outputId": "c19e0739-437e-4c51-9af7-53e0ba68335d"
      },
      "outputs": [
        {
          "output_type": "stream",
          "name": "stdout",
          "text": [
            "Drive already mounted at /content/drive; to attempt to forcibly remount, call drive.mount(\"/content/drive\", force_remount=True).\n"
          ]
        },
        {
          "output_type": "execute_result",
          "data": {
            "text/plain": [
              "    TimeStamp  Gender  Age Course  Current Semester  Current CGPA  \\\n",
              "0    2020/5/3  female   24     CE                 1         3.930   \n",
              "1  2020/11/17    male   22     ME                 2         2.150   \n",
              "2  2022/11/23  female   20     IT                 5         3.660   \n",
              "3    2022/6/8    male   23    CSE                 7         3.080   \n",
              "4    2020/8/2  female   24     CE                 3         3.050   \n",
              "5  2020/11/21  female   25    CSE                 4         2.450   \n",
              "6   2022/5/22  female   25     ME                 5         2.440   \n",
              "7    2021/1/7  female   24     CE                 4         2.080   \n",
              "8   2022/11/3  female   23    EEE                 1         2.070   \n",
              "9  2021/11/25  female   19     ME                 4         3.520   \n",
              "\n",
              "  Marital Status Have Depression Have Anxiety Have Panic Attack  \\\n",
              "0        Married              No           No                No   \n",
              "1      Unmarried              No           No                No   \n",
              "2      Unmarried              No           No                No   \n",
              "3      Unmarried             Yes           No                No   \n",
              "4        Married              No           No                No   \n",
              "5      Unmarried              No           No                No   \n",
              "6      Unmarried             Yes          Yes                No   \n",
              "7      Unmarried             Yes           No                No   \n",
              "8      Unmarried              No           No                No   \n",
              "9      Unmarried              No           No                No   \n",
              "\n",
              "  Doctors Treatment  \n",
              "0                No  \n",
              "1                No  \n",
              "2                No  \n",
              "3                No  \n",
              "4                No  \n",
              "5                No  \n",
              "6               Yes  \n",
              "7                No  \n",
              "8                No  \n",
              "9                No  "
            ],
            "text/html": [
              "\n",
              "  <div id=\"df-8e094a6c-e315-48c9-a4e3-762ca5a4bb4f\">\n",
              "    <div class=\"colab-df-container\">\n",
              "      <div>\n",
              "<style scoped>\n",
              "    .dataframe tbody tr th:only-of-type {\n",
              "        vertical-align: middle;\n",
              "    }\n",
              "\n",
              "    .dataframe tbody tr th {\n",
              "        vertical-align: top;\n",
              "    }\n",
              "\n",
              "    .dataframe thead th {\n",
              "        text-align: right;\n",
              "    }\n",
              "</style>\n",
              "<table border=\"1\" class=\"dataframe\">\n",
              "  <thead>\n",
              "    <tr style=\"text-align: right;\">\n",
              "      <th></th>\n",
              "      <th>TimeStamp</th>\n",
              "      <th>Gender</th>\n",
              "      <th>Age</th>\n",
              "      <th>Course</th>\n",
              "      <th>Current Semester</th>\n",
              "      <th>Current CGPA</th>\n",
              "      <th>Marital Status</th>\n",
              "      <th>Have Depression</th>\n",
              "      <th>Have Anxiety</th>\n",
              "      <th>Have Panic Attack</th>\n",
              "      <th>Doctors Treatment</th>\n",
              "    </tr>\n",
              "  </thead>\n",
              "  <tbody>\n",
              "    <tr>\n",
              "      <th>0</th>\n",
              "      <td>2020/5/3</td>\n",
              "      <td>female</td>\n",
              "      <td>24</td>\n",
              "      <td>CE</td>\n",
              "      <td>1</td>\n",
              "      <td>3.930</td>\n",
              "      <td>Married</td>\n",
              "      <td>No</td>\n",
              "      <td>No</td>\n",
              "      <td>No</td>\n",
              "      <td>No</td>\n",
              "    </tr>\n",
              "    <tr>\n",
              "      <th>1</th>\n",
              "      <td>2020/11/17</td>\n",
              "      <td>male</td>\n",
              "      <td>22</td>\n",
              "      <td>ME</td>\n",
              "      <td>2</td>\n",
              "      <td>2.150</td>\n",
              "      <td>Unmarried</td>\n",
              "      <td>No</td>\n",
              "      <td>No</td>\n",
              "      <td>No</td>\n",
              "      <td>No</td>\n",
              "    </tr>\n",
              "    <tr>\n",
              "      <th>2</th>\n",
              "      <td>2022/11/23</td>\n",
              "      <td>female</td>\n",
              "      <td>20</td>\n",
              "      <td>IT</td>\n",
              "      <td>5</td>\n",
              "      <td>3.660</td>\n",
              "      <td>Unmarried</td>\n",
              "      <td>No</td>\n",
              "      <td>No</td>\n",
              "      <td>No</td>\n",
              "      <td>No</td>\n",
              "    </tr>\n",
              "    <tr>\n",
              "      <th>3</th>\n",
              "      <td>2022/6/8</td>\n",
              "      <td>male</td>\n",
              "      <td>23</td>\n",
              "      <td>CSE</td>\n",
              "      <td>7</td>\n",
              "      <td>3.080</td>\n",
              "      <td>Unmarried</td>\n",
              "      <td>Yes</td>\n",
              "      <td>No</td>\n",
              "      <td>No</td>\n",
              "      <td>No</td>\n",
              "    </tr>\n",
              "    <tr>\n",
              "      <th>4</th>\n",
              "      <td>2020/8/2</td>\n",
              "      <td>female</td>\n",
              "      <td>24</td>\n",
              "      <td>CE</td>\n",
              "      <td>3</td>\n",
              "      <td>3.050</td>\n",
              "      <td>Married</td>\n",
              "      <td>No</td>\n",
              "      <td>No</td>\n",
              "      <td>No</td>\n",
              "      <td>No</td>\n",
              "    </tr>\n",
              "    <tr>\n",
              "      <th>5</th>\n",
              "      <td>2020/11/21</td>\n",
              "      <td>female</td>\n",
              "      <td>25</td>\n",
              "      <td>CSE</td>\n",
              "      <td>4</td>\n",
              "      <td>2.450</td>\n",
              "      <td>Unmarried</td>\n",
              "      <td>No</td>\n",
              "      <td>No</td>\n",
              "      <td>No</td>\n",
              "      <td>No</td>\n",
              "    </tr>\n",
              "    <tr>\n",
              "      <th>6</th>\n",
              "      <td>2022/5/22</td>\n",
              "      <td>female</td>\n",
              "      <td>25</td>\n",
              "      <td>ME</td>\n",
              "      <td>5</td>\n",
              "      <td>2.440</td>\n",
              "      <td>Unmarried</td>\n",
              "      <td>Yes</td>\n",
              "      <td>Yes</td>\n",
              "      <td>No</td>\n",
              "      <td>Yes</td>\n",
              "    </tr>\n",
              "    <tr>\n",
              "      <th>7</th>\n",
              "      <td>2021/1/7</td>\n",
              "      <td>female</td>\n",
              "      <td>24</td>\n",
              "      <td>CE</td>\n",
              "      <td>4</td>\n",
              "      <td>2.080</td>\n",
              "      <td>Unmarried</td>\n",
              "      <td>Yes</td>\n",
              "      <td>No</td>\n",
              "      <td>No</td>\n",
              "      <td>No</td>\n",
              "    </tr>\n",
              "    <tr>\n",
              "      <th>8</th>\n",
              "      <td>2022/11/3</td>\n",
              "      <td>female</td>\n",
              "      <td>23</td>\n",
              "      <td>EEE</td>\n",
              "      <td>1</td>\n",
              "      <td>2.070</td>\n",
              "      <td>Unmarried</td>\n",
              "      <td>No</td>\n",
              "      <td>No</td>\n",
              "      <td>No</td>\n",
              "      <td>No</td>\n",
              "    </tr>\n",
              "    <tr>\n",
              "      <th>9</th>\n",
              "      <td>2021/11/25</td>\n",
              "      <td>female</td>\n",
              "      <td>19</td>\n",
              "      <td>ME</td>\n",
              "      <td>4</td>\n",
              "      <td>3.520</td>\n",
              "      <td>Unmarried</td>\n",
              "      <td>No</td>\n",
              "      <td>No</td>\n",
              "      <td>No</td>\n",
              "      <td>No</td>\n",
              "    </tr>\n",
              "  </tbody>\n",
              "</table>\n",
              "</div>\n",
              "      <button class=\"colab-df-convert\" onclick=\"convertToInteractive('df-8e094a6c-e315-48c9-a4e3-762ca5a4bb4f')\"\n",
              "              title=\"Convert this dataframe to an interactive table.\"\n",
              "              style=\"display:none;\">\n",
              "        \n",
              "  <svg xmlns=\"http://www.w3.org/2000/svg\" height=\"24px\"viewBox=\"0 0 24 24\"\n",
              "       width=\"24px\">\n",
              "    <path d=\"M0 0h24v24H0V0z\" fill=\"none\"/>\n",
              "    <path d=\"M18.56 5.44l.94 2.06.94-2.06 2.06-.94-2.06-.94-.94-2.06-.94 2.06-2.06.94zm-11 1L8.5 8.5l.94-2.06 2.06-.94-2.06-.94L8.5 2.5l-.94 2.06-2.06.94zm10 10l.94 2.06.94-2.06 2.06-.94-2.06-.94-.94-2.06-.94 2.06-2.06.94z\"/><path d=\"M17.41 7.96l-1.37-1.37c-.4-.4-.92-.59-1.43-.59-.52 0-1.04.2-1.43.59L10.3 9.45l-7.72 7.72c-.78.78-.78 2.05 0 2.83L4 21.41c.39.39.9.59 1.41.59.51 0 1.02-.2 1.41-.59l7.78-7.78 2.81-2.81c.8-.78.8-2.07 0-2.86zM5.41 20L4 18.59l7.72-7.72 1.47 1.35L5.41 20z\"/>\n",
              "  </svg>\n",
              "      </button>\n",
              "      \n",
              "  <style>\n",
              "    .colab-df-container {\n",
              "      display:flex;\n",
              "      flex-wrap:wrap;\n",
              "      gap: 12px;\n",
              "    }\n",
              "\n",
              "    .colab-df-convert {\n",
              "      background-color: #E8F0FE;\n",
              "      border: none;\n",
              "      border-radius: 50%;\n",
              "      cursor: pointer;\n",
              "      display: none;\n",
              "      fill: #1967D2;\n",
              "      height: 32px;\n",
              "      padding: 0 0 0 0;\n",
              "      width: 32px;\n",
              "    }\n",
              "\n",
              "    .colab-df-convert:hover {\n",
              "      background-color: #E2EBFA;\n",
              "      box-shadow: 0px 1px 2px rgba(60, 64, 67, 0.3), 0px 1px 3px 1px rgba(60, 64, 67, 0.15);\n",
              "      fill: #174EA6;\n",
              "    }\n",
              "\n",
              "    [theme=dark] .colab-df-convert {\n",
              "      background-color: #3B4455;\n",
              "      fill: #D2E3FC;\n",
              "    }\n",
              "\n",
              "    [theme=dark] .colab-df-convert:hover {\n",
              "      background-color: #434B5C;\n",
              "      box-shadow: 0px 1px 3px 1px rgba(0, 0, 0, 0.15);\n",
              "      filter: drop-shadow(0px 1px 2px rgba(0, 0, 0, 0.3));\n",
              "      fill: #FFFFFF;\n",
              "    }\n",
              "  </style>\n",
              "\n",
              "      <script>\n",
              "        const buttonEl =\n",
              "          document.querySelector('#df-8e094a6c-e315-48c9-a4e3-762ca5a4bb4f button.colab-df-convert');\n",
              "        buttonEl.style.display =\n",
              "          google.colab.kernel.accessAllowed ? 'block' : 'none';\n",
              "\n",
              "        async function convertToInteractive(key) {\n",
              "          const element = document.querySelector('#df-8e094a6c-e315-48c9-a4e3-762ca5a4bb4f');\n",
              "          const dataTable =\n",
              "            await google.colab.kernel.invokeFunction('convertToInteractive',\n",
              "                                                     [key], {});\n",
              "          if (!dataTable) return;\n",
              "\n",
              "          const docLinkHtml = 'Like what you see? Visit the ' +\n",
              "            '<a target=\"_blank\" href=https://colab.research.google.com/notebooks/data_table.ipynb>data table notebook</a>'\n",
              "            + ' to learn more about interactive tables.';\n",
              "          element.innerHTML = '';\n",
              "          dataTable['output_type'] = 'display_data';\n",
              "          await google.colab.output.renderOutput(dataTable, element);\n",
              "          const docLink = document.createElement('div');\n",
              "          docLink.innerHTML = docLinkHtml;\n",
              "          element.appendChild(docLink);\n",
              "        }\n",
              "      </script>\n",
              "    </div>\n",
              "  </div>\n",
              "  "
            ]
          },
          "metadata": {},
          "execution_count": 1179
        }
      ],
      "source": [
        "#All right reserved by Ibrahim khan\n",
        "import pandas as pd\n",
        "from sklearn.model_selection import train_test_split\n",
        "import numpy as np\n",
        "\n",
        "from google.colab import drive\n",
        "drive.mount('/content/drive')\n",
        "\n",
        "\n",
        "from sklearn.preprocessing import LabelEncoder\n",
        "df = pd.read_csv('/content/drive/MyDrive/Ml Lab/Engineering_students_mental_health.csv')\n",
        "le = LabelEncoder()\n",
        "df.head(10)\n"
      ]
    },
    {
      "cell_type": "code",
      "source": [
        "col_names = ['TimeStamp','Gender','Age','Course','Current_Semester','Current_CGPA','Marital_Status','Have_Depression','Have_Anxiety','Have_Panic_Attack','Doctors_Treatment']\n",
        "df.columns = col_names\n"
      ],
      "metadata": {
        "id": "nJqOZSiwZmpy"
      },
      "execution_count": 1180,
      "outputs": []
    },
    {
      "cell_type": "code",
      "source": [
        "df.Gender = le.fit_transform(df.Gender)\n",
        "df.Course = le.fit_transform(df.Course)\n",
        "df.Marital_Status = le.fit_transform(df.Marital_Status)\n",
        "df.Have_Depression = le.fit_transform(df.Have_Depression)\n",
        "df.Have_Anxiety = le.fit_transform(df.Have_Anxiety)\n",
        "df.Have_Panic_Attack = le.fit_transform(df.Have_Panic_Attack)\n",
        "df.head(100)"
      ],
      "metadata": {
        "colab": {
          "base_uri": "https://localhost:8080/",
          "height": 424
        },
        "id": "MIFNXo-4ZWti",
        "outputId": "b74e2645-1344-4393-a907-ab510569c2ec"
      },
      "execution_count": 1181,
      "outputs": [
        {
          "output_type": "execute_result",
          "data": {
            "text/plain": [
              "     TimeStamp  Gender  Age  Course  Current_Semester  Current_CGPA  \\\n",
              "0     2020/5/3       0   24       0                 1         3.930   \n",
              "1   2020/11/17       1   22       4                 2         2.150   \n",
              "2   2022/11/23       0   20       3                 5         3.660   \n",
              "3     2022/6/8       1   23       1                 7         3.080   \n",
              "4     2020/8/2       0   24       0                 3         3.050   \n",
              "..         ...     ...  ...     ...               ...           ...   \n",
              "95    2022/7/7       1   25       1                 4         3.380   \n",
              "96   2020/3/26       0   20       4                 7         2.350   \n",
              "97    2021/9/7       1   19       0                 5         2.050   \n",
              "98   2022/4/24       1   20       4                 3         3.900   \n",
              "99   2021/3/27       0   25       2                 7         3.390   \n",
              "\n",
              "    Marital_Status  Have_Depression  Have_Anxiety  Have_Panic_Attack  \\\n",
              "0                0                0             0                  0   \n",
              "1                1                0             0                  0   \n",
              "2                1                0             0                  0   \n",
              "3                1                1             0                  0   \n",
              "4                0                0             0                  0   \n",
              "..             ...              ...           ...                ...   \n",
              "95               1                0             0                  0   \n",
              "96               1                0             0                  0   \n",
              "97               1                1             0                  0   \n",
              "98               1                0             1                  0   \n",
              "99               0                0             0                  0   \n",
              "\n",
              "   Doctors_Treatment  \n",
              "0                 No  \n",
              "1                 No  \n",
              "2                 No  \n",
              "3                 No  \n",
              "4                 No  \n",
              "..               ...  \n",
              "95                No  \n",
              "96                No  \n",
              "97                No  \n",
              "98                No  \n",
              "99                No  \n",
              "\n",
              "[100 rows x 11 columns]"
            ],
            "text/html": [
              "\n",
              "  <div id=\"df-01443570-19c3-43a8-83bf-f52d3cca3d2d\">\n",
              "    <div class=\"colab-df-container\">\n",
              "      <div>\n",
              "<style scoped>\n",
              "    .dataframe tbody tr th:only-of-type {\n",
              "        vertical-align: middle;\n",
              "    }\n",
              "\n",
              "    .dataframe tbody tr th {\n",
              "        vertical-align: top;\n",
              "    }\n",
              "\n",
              "    .dataframe thead th {\n",
              "        text-align: right;\n",
              "    }\n",
              "</style>\n",
              "<table border=\"1\" class=\"dataframe\">\n",
              "  <thead>\n",
              "    <tr style=\"text-align: right;\">\n",
              "      <th></th>\n",
              "      <th>TimeStamp</th>\n",
              "      <th>Gender</th>\n",
              "      <th>Age</th>\n",
              "      <th>Course</th>\n",
              "      <th>Current_Semester</th>\n",
              "      <th>Current_CGPA</th>\n",
              "      <th>Marital_Status</th>\n",
              "      <th>Have_Depression</th>\n",
              "      <th>Have_Anxiety</th>\n",
              "      <th>Have_Panic_Attack</th>\n",
              "      <th>Doctors_Treatment</th>\n",
              "    </tr>\n",
              "  </thead>\n",
              "  <tbody>\n",
              "    <tr>\n",
              "      <th>0</th>\n",
              "      <td>2020/5/3</td>\n",
              "      <td>0</td>\n",
              "      <td>24</td>\n",
              "      <td>0</td>\n",
              "      <td>1</td>\n",
              "      <td>3.930</td>\n",
              "      <td>0</td>\n",
              "      <td>0</td>\n",
              "      <td>0</td>\n",
              "      <td>0</td>\n",
              "      <td>No</td>\n",
              "    </tr>\n",
              "    <tr>\n",
              "      <th>1</th>\n",
              "      <td>2020/11/17</td>\n",
              "      <td>1</td>\n",
              "      <td>22</td>\n",
              "      <td>4</td>\n",
              "      <td>2</td>\n",
              "      <td>2.150</td>\n",
              "      <td>1</td>\n",
              "      <td>0</td>\n",
              "      <td>0</td>\n",
              "      <td>0</td>\n",
              "      <td>No</td>\n",
              "    </tr>\n",
              "    <tr>\n",
              "      <th>2</th>\n",
              "      <td>2022/11/23</td>\n",
              "      <td>0</td>\n",
              "      <td>20</td>\n",
              "      <td>3</td>\n",
              "      <td>5</td>\n",
              "      <td>3.660</td>\n",
              "      <td>1</td>\n",
              "      <td>0</td>\n",
              "      <td>0</td>\n",
              "      <td>0</td>\n",
              "      <td>No</td>\n",
              "    </tr>\n",
              "    <tr>\n",
              "      <th>3</th>\n",
              "      <td>2022/6/8</td>\n",
              "      <td>1</td>\n",
              "      <td>23</td>\n",
              "      <td>1</td>\n",
              "      <td>7</td>\n",
              "      <td>3.080</td>\n",
              "      <td>1</td>\n",
              "      <td>1</td>\n",
              "      <td>0</td>\n",
              "      <td>0</td>\n",
              "      <td>No</td>\n",
              "    </tr>\n",
              "    <tr>\n",
              "      <th>4</th>\n",
              "      <td>2020/8/2</td>\n",
              "      <td>0</td>\n",
              "      <td>24</td>\n",
              "      <td>0</td>\n",
              "      <td>3</td>\n",
              "      <td>3.050</td>\n",
              "      <td>0</td>\n",
              "      <td>0</td>\n",
              "      <td>0</td>\n",
              "      <td>0</td>\n",
              "      <td>No</td>\n",
              "    </tr>\n",
              "    <tr>\n",
              "      <th>...</th>\n",
              "      <td>...</td>\n",
              "      <td>...</td>\n",
              "      <td>...</td>\n",
              "      <td>...</td>\n",
              "      <td>...</td>\n",
              "      <td>...</td>\n",
              "      <td>...</td>\n",
              "      <td>...</td>\n",
              "      <td>...</td>\n",
              "      <td>...</td>\n",
              "      <td>...</td>\n",
              "    </tr>\n",
              "    <tr>\n",
              "      <th>95</th>\n",
              "      <td>2022/7/7</td>\n",
              "      <td>1</td>\n",
              "      <td>25</td>\n",
              "      <td>1</td>\n",
              "      <td>4</td>\n",
              "      <td>3.380</td>\n",
              "      <td>1</td>\n",
              "      <td>0</td>\n",
              "      <td>0</td>\n",
              "      <td>0</td>\n",
              "      <td>No</td>\n",
              "    </tr>\n",
              "    <tr>\n",
              "      <th>96</th>\n",
              "      <td>2020/3/26</td>\n",
              "      <td>0</td>\n",
              "      <td>20</td>\n",
              "      <td>4</td>\n",
              "      <td>7</td>\n",
              "      <td>2.350</td>\n",
              "      <td>1</td>\n",
              "      <td>0</td>\n",
              "      <td>0</td>\n",
              "      <td>0</td>\n",
              "      <td>No</td>\n",
              "    </tr>\n",
              "    <tr>\n",
              "      <th>97</th>\n",
              "      <td>2021/9/7</td>\n",
              "      <td>1</td>\n",
              "      <td>19</td>\n",
              "      <td>0</td>\n",
              "      <td>5</td>\n",
              "      <td>2.050</td>\n",
              "      <td>1</td>\n",
              "      <td>1</td>\n",
              "      <td>0</td>\n",
              "      <td>0</td>\n",
              "      <td>No</td>\n",
              "    </tr>\n",
              "    <tr>\n",
              "      <th>98</th>\n",
              "      <td>2022/4/24</td>\n",
              "      <td>1</td>\n",
              "      <td>20</td>\n",
              "      <td>4</td>\n",
              "      <td>3</td>\n",
              "      <td>3.900</td>\n",
              "      <td>1</td>\n",
              "      <td>0</td>\n",
              "      <td>1</td>\n",
              "      <td>0</td>\n",
              "      <td>No</td>\n",
              "    </tr>\n",
              "    <tr>\n",
              "      <th>99</th>\n",
              "      <td>2021/3/27</td>\n",
              "      <td>0</td>\n",
              "      <td>25</td>\n",
              "      <td>2</td>\n",
              "      <td>7</td>\n",
              "      <td>3.390</td>\n",
              "      <td>0</td>\n",
              "      <td>0</td>\n",
              "      <td>0</td>\n",
              "      <td>0</td>\n",
              "      <td>No</td>\n",
              "    </tr>\n",
              "  </tbody>\n",
              "</table>\n",
              "<p>100 rows × 11 columns</p>\n",
              "</div>\n",
              "      <button class=\"colab-df-convert\" onclick=\"convertToInteractive('df-01443570-19c3-43a8-83bf-f52d3cca3d2d')\"\n",
              "              title=\"Convert this dataframe to an interactive table.\"\n",
              "              style=\"display:none;\">\n",
              "        \n",
              "  <svg xmlns=\"http://www.w3.org/2000/svg\" height=\"24px\"viewBox=\"0 0 24 24\"\n",
              "       width=\"24px\">\n",
              "    <path d=\"M0 0h24v24H0V0z\" fill=\"none\"/>\n",
              "    <path d=\"M18.56 5.44l.94 2.06.94-2.06 2.06-.94-2.06-.94-.94-2.06-.94 2.06-2.06.94zm-11 1L8.5 8.5l.94-2.06 2.06-.94-2.06-.94L8.5 2.5l-.94 2.06-2.06.94zm10 10l.94 2.06.94-2.06 2.06-.94-2.06-.94-.94-2.06-.94 2.06-2.06.94z\"/><path d=\"M17.41 7.96l-1.37-1.37c-.4-.4-.92-.59-1.43-.59-.52 0-1.04.2-1.43.59L10.3 9.45l-7.72 7.72c-.78.78-.78 2.05 0 2.83L4 21.41c.39.39.9.59 1.41.59.51 0 1.02-.2 1.41-.59l7.78-7.78 2.81-2.81c.8-.78.8-2.07 0-2.86zM5.41 20L4 18.59l7.72-7.72 1.47 1.35L5.41 20z\"/>\n",
              "  </svg>\n",
              "      </button>\n",
              "      \n",
              "  <style>\n",
              "    .colab-df-container {\n",
              "      display:flex;\n",
              "      flex-wrap:wrap;\n",
              "      gap: 12px;\n",
              "    }\n",
              "\n",
              "    .colab-df-convert {\n",
              "      background-color: #E8F0FE;\n",
              "      border: none;\n",
              "      border-radius: 50%;\n",
              "      cursor: pointer;\n",
              "      display: none;\n",
              "      fill: #1967D2;\n",
              "      height: 32px;\n",
              "      padding: 0 0 0 0;\n",
              "      width: 32px;\n",
              "    }\n",
              "\n",
              "    .colab-df-convert:hover {\n",
              "      background-color: #E2EBFA;\n",
              "      box-shadow: 0px 1px 2px rgba(60, 64, 67, 0.3), 0px 1px 3px 1px rgba(60, 64, 67, 0.15);\n",
              "      fill: #174EA6;\n",
              "    }\n",
              "\n",
              "    [theme=dark] .colab-df-convert {\n",
              "      background-color: #3B4455;\n",
              "      fill: #D2E3FC;\n",
              "    }\n",
              "\n",
              "    [theme=dark] .colab-df-convert:hover {\n",
              "      background-color: #434B5C;\n",
              "      box-shadow: 0px 1px 3px 1px rgba(0, 0, 0, 0.15);\n",
              "      filter: drop-shadow(0px 1px 2px rgba(0, 0, 0, 0.3));\n",
              "      fill: #FFFFFF;\n",
              "    }\n",
              "  </style>\n",
              "\n",
              "      <script>\n",
              "        const buttonEl =\n",
              "          document.querySelector('#df-01443570-19c3-43a8-83bf-f52d3cca3d2d button.colab-df-convert');\n",
              "        buttonEl.style.display =\n",
              "          google.colab.kernel.accessAllowed ? 'block' : 'none';\n",
              "\n",
              "        async function convertToInteractive(key) {\n",
              "          const element = document.querySelector('#df-01443570-19c3-43a8-83bf-f52d3cca3d2d');\n",
              "          const dataTable =\n",
              "            await google.colab.kernel.invokeFunction('convertToInteractive',\n",
              "                                                     [key], {});\n",
              "          if (!dataTable) return;\n",
              "\n",
              "          const docLinkHtml = 'Like what you see? Visit the ' +\n",
              "            '<a target=\"_blank\" href=https://colab.research.google.com/notebooks/data_table.ipynb>data table notebook</a>'\n",
              "            + ' to learn more about interactive tables.';\n",
              "          element.innerHTML = '';\n",
              "          dataTable['output_type'] = 'display_data';\n",
              "          await google.colab.output.renderOutput(dataTable, element);\n",
              "          const docLink = document.createElement('div');\n",
              "          docLink.innerHTML = docLinkHtml;\n",
              "          element.appendChild(docLink);\n",
              "        }\n",
              "      </script>\n",
              "    </div>\n",
              "  </div>\n",
              "  "
            ]
          },
          "metadata": {},
          "execution_count": 1181
        }
      ]
    },
    {
      "cell_type": "code",
      "source": [
        "df = df.drop(['TimeStamp','Marital_Status','Gender','Course','Age','Have_Panic_Attack'], axis = 1)\n",
        "x = df.drop(['Doctors_Treatment'], axis = 1)\n",
        "yA = df['Doctors_Treatment']\n",
        "\n",
        "x"
      ],
      "metadata": {
        "colab": {
          "base_uri": "https://localhost:8080/",
          "height": 424
        },
        "id": "m7D06svLZ44D",
        "outputId": "7982de7c-5d0e-4255-842f-5d66fcba22e7"
      },
      "execution_count": 1182,
      "outputs": [
        {
          "output_type": "execute_result",
          "data": {
            "text/plain": [
              "      Current_Semester  Current_CGPA  Have_Depression  Have_Anxiety\n",
              "0                    1         3.930                0             0\n",
              "1                    2         2.150                0             0\n",
              "2                    5         3.660                0             0\n",
              "3                    7         3.080                1             0\n",
              "4                    3         3.050                0             0\n",
              "...                ...           ...              ...           ...\n",
              "1125                 6         3.880                0             0\n",
              "1126                 3         2.330                0             0\n",
              "1127                 3         2.470                0             0\n",
              "1128                 4         2.800                0             0\n",
              "1129                 7         2.750                0             0\n",
              "\n",
              "[1130 rows x 4 columns]"
            ],
            "text/html": [
              "\n",
              "  <div id=\"df-b331eccd-c367-4b46-9730-cf7a714e8a87\">\n",
              "    <div class=\"colab-df-container\">\n",
              "      <div>\n",
              "<style scoped>\n",
              "    .dataframe tbody tr th:only-of-type {\n",
              "        vertical-align: middle;\n",
              "    }\n",
              "\n",
              "    .dataframe tbody tr th {\n",
              "        vertical-align: top;\n",
              "    }\n",
              "\n",
              "    .dataframe thead th {\n",
              "        text-align: right;\n",
              "    }\n",
              "</style>\n",
              "<table border=\"1\" class=\"dataframe\">\n",
              "  <thead>\n",
              "    <tr style=\"text-align: right;\">\n",
              "      <th></th>\n",
              "      <th>Current_Semester</th>\n",
              "      <th>Current_CGPA</th>\n",
              "      <th>Have_Depression</th>\n",
              "      <th>Have_Anxiety</th>\n",
              "    </tr>\n",
              "  </thead>\n",
              "  <tbody>\n",
              "    <tr>\n",
              "      <th>0</th>\n",
              "      <td>1</td>\n",
              "      <td>3.930</td>\n",
              "      <td>0</td>\n",
              "      <td>0</td>\n",
              "    </tr>\n",
              "    <tr>\n",
              "      <th>1</th>\n",
              "      <td>2</td>\n",
              "      <td>2.150</td>\n",
              "      <td>0</td>\n",
              "      <td>0</td>\n",
              "    </tr>\n",
              "    <tr>\n",
              "      <th>2</th>\n",
              "      <td>5</td>\n",
              "      <td>3.660</td>\n",
              "      <td>0</td>\n",
              "      <td>0</td>\n",
              "    </tr>\n",
              "    <tr>\n",
              "      <th>3</th>\n",
              "      <td>7</td>\n",
              "      <td>3.080</td>\n",
              "      <td>1</td>\n",
              "      <td>0</td>\n",
              "    </tr>\n",
              "    <tr>\n",
              "      <th>4</th>\n",
              "      <td>3</td>\n",
              "      <td>3.050</td>\n",
              "      <td>0</td>\n",
              "      <td>0</td>\n",
              "    </tr>\n",
              "    <tr>\n",
              "      <th>...</th>\n",
              "      <td>...</td>\n",
              "      <td>...</td>\n",
              "      <td>...</td>\n",
              "      <td>...</td>\n",
              "    </tr>\n",
              "    <tr>\n",
              "      <th>1125</th>\n",
              "      <td>6</td>\n",
              "      <td>3.880</td>\n",
              "      <td>0</td>\n",
              "      <td>0</td>\n",
              "    </tr>\n",
              "    <tr>\n",
              "      <th>1126</th>\n",
              "      <td>3</td>\n",
              "      <td>2.330</td>\n",
              "      <td>0</td>\n",
              "      <td>0</td>\n",
              "    </tr>\n",
              "    <tr>\n",
              "      <th>1127</th>\n",
              "      <td>3</td>\n",
              "      <td>2.470</td>\n",
              "      <td>0</td>\n",
              "      <td>0</td>\n",
              "    </tr>\n",
              "    <tr>\n",
              "      <th>1128</th>\n",
              "      <td>4</td>\n",
              "      <td>2.800</td>\n",
              "      <td>0</td>\n",
              "      <td>0</td>\n",
              "    </tr>\n",
              "    <tr>\n",
              "      <th>1129</th>\n",
              "      <td>7</td>\n",
              "      <td>2.750</td>\n",
              "      <td>0</td>\n",
              "      <td>0</td>\n",
              "    </tr>\n",
              "  </tbody>\n",
              "</table>\n",
              "<p>1130 rows × 4 columns</p>\n",
              "</div>\n",
              "      <button class=\"colab-df-convert\" onclick=\"convertToInteractive('df-b331eccd-c367-4b46-9730-cf7a714e8a87')\"\n",
              "              title=\"Convert this dataframe to an interactive table.\"\n",
              "              style=\"display:none;\">\n",
              "        \n",
              "  <svg xmlns=\"http://www.w3.org/2000/svg\" height=\"24px\"viewBox=\"0 0 24 24\"\n",
              "       width=\"24px\">\n",
              "    <path d=\"M0 0h24v24H0V0z\" fill=\"none\"/>\n",
              "    <path d=\"M18.56 5.44l.94 2.06.94-2.06 2.06-.94-2.06-.94-.94-2.06-.94 2.06-2.06.94zm-11 1L8.5 8.5l.94-2.06 2.06-.94-2.06-.94L8.5 2.5l-.94 2.06-2.06.94zm10 10l.94 2.06.94-2.06 2.06-.94-2.06-.94-.94-2.06-.94 2.06-2.06.94z\"/><path d=\"M17.41 7.96l-1.37-1.37c-.4-.4-.92-.59-1.43-.59-.52 0-1.04.2-1.43.59L10.3 9.45l-7.72 7.72c-.78.78-.78 2.05 0 2.83L4 21.41c.39.39.9.59 1.41.59.51 0 1.02-.2 1.41-.59l7.78-7.78 2.81-2.81c.8-.78.8-2.07 0-2.86zM5.41 20L4 18.59l7.72-7.72 1.47 1.35L5.41 20z\"/>\n",
              "  </svg>\n",
              "      </button>\n",
              "      \n",
              "  <style>\n",
              "    .colab-df-container {\n",
              "      display:flex;\n",
              "      flex-wrap:wrap;\n",
              "      gap: 12px;\n",
              "    }\n",
              "\n",
              "    .colab-df-convert {\n",
              "      background-color: #E8F0FE;\n",
              "      border: none;\n",
              "      border-radius: 50%;\n",
              "      cursor: pointer;\n",
              "      display: none;\n",
              "      fill: #1967D2;\n",
              "      height: 32px;\n",
              "      padding: 0 0 0 0;\n",
              "      width: 32px;\n",
              "    }\n",
              "\n",
              "    .colab-df-convert:hover {\n",
              "      background-color: #E2EBFA;\n",
              "      box-shadow: 0px 1px 2px rgba(60, 64, 67, 0.3), 0px 1px 3px 1px rgba(60, 64, 67, 0.15);\n",
              "      fill: #174EA6;\n",
              "    }\n",
              "\n",
              "    [theme=dark] .colab-df-convert {\n",
              "      background-color: #3B4455;\n",
              "      fill: #D2E3FC;\n",
              "    }\n",
              "\n",
              "    [theme=dark] .colab-df-convert:hover {\n",
              "      background-color: #434B5C;\n",
              "      box-shadow: 0px 1px 3px 1px rgba(0, 0, 0, 0.15);\n",
              "      filter: drop-shadow(0px 1px 2px rgba(0, 0, 0, 0.3));\n",
              "      fill: #FFFFFF;\n",
              "    }\n",
              "  </style>\n",
              "\n",
              "      <script>\n",
              "        const buttonEl =\n",
              "          document.querySelector('#df-b331eccd-c367-4b46-9730-cf7a714e8a87 button.colab-df-convert');\n",
              "        buttonEl.style.display =\n",
              "          google.colab.kernel.accessAllowed ? 'block' : 'none';\n",
              "\n",
              "        async function convertToInteractive(key) {\n",
              "          const element = document.querySelector('#df-b331eccd-c367-4b46-9730-cf7a714e8a87');\n",
              "          const dataTable =\n",
              "            await google.colab.kernel.invokeFunction('convertToInteractive',\n",
              "                                                     [key], {});\n",
              "          if (!dataTable) return;\n",
              "\n",
              "          const docLinkHtml = 'Like what you see? Visit the ' +\n",
              "            '<a target=\"_blank\" href=https://colab.research.google.com/notebooks/data_table.ipynb>data table notebook</a>'\n",
              "            + ' to learn more about interactive tables.';\n",
              "          element.innerHTML = '';\n",
              "          dataTable['output_type'] = 'display_data';\n",
              "          await google.colab.output.renderOutput(dataTable, element);\n",
              "          const docLink = document.createElement('div');\n",
              "          docLink.innerHTML = docLinkHtml;\n",
              "          element.appendChild(docLink);\n",
              "        }\n",
              "      </script>\n",
              "    </div>\n",
              "  </div>\n",
              "  "
            ]
          },
          "metadata": {},
          "execution_count": 1182
        }
      ]
    },
    {
      "cell_type": "code",
      "source": [
        "xA_train, xA_test, yA_train, yA_test = train_test_split(x,yA,test_size=0.25,random_state=10)"
      ],
      "metadata": {
        "id": "GXNjzwOCaHWd"
      },
      "execution_count": 1183,
      "outputs": []
    },
    {
      "cell_type": "markdown",
      "source": [
        "LR"
      ],
      "metadata": {
        "id": "gLvoSXw7gYCV"
      }
    },
    {
      "cell_type": "code",
      "source": [
        "from sklearn.linear_model import LogisticRegression\n",
        "lg_reg = LogisticRegression()\n",
        "lg_reg.fit(xA_train,yA_train)\n",
        "lg_reg_a = lg_reg.score(xA_test,yA_test)\n",
        "lg_reg_a"
      ],
      "metadata": {
        "colab": {
          "base_uri": "https://localhost:8080/"
        },
        "id": "_yrARSjCaMIh",
        "outputId": "be7ce8d1-a333-4913-c5d9-736da8669dfb"
      },
      "execution_count": 1184,
      "outputs": [
        {
          "output_type": "execute_result",
          "data": {
            "text/plain": [
              "0.9787985865724381"
            ]
          },
          "metadata": {},
          "execution_count": 1184
        }
      ]
    },
    {
      "cell_type": "code",
      "source": [
        ""
      ],
      "metadata": {
        "id": "fLLNJpoY-vdz"
      },
      "execution_count": 1184,
      "outputs": []
    },
    {
      "cell_type": "code",
      "source": [
        "#Predicting the test set result  \n",
        "yA_pred= lg_reg.predict(xA_test) \n",
        "print (yA_pred)"
      ],
      "metadata": {
        "colab": {
          "base_uri": "https://localhost:8080/"
        },
        "id": "lJy9S9sZancH",
        "outputId": "75601c88-daa7-484a-cef1-2085c0249c82"
      },
      "execution_count": 1185,
      "outputs": [
        {
          "output_type": "stream",
          "name": "stdout",
          "text": [
            "['No' 'No' 'No' 'No' 'No' 'No' 'No' 'No' 'No' 'No' 'No' 'No' 'No' 'No'\n",
            " 'No' 'No' 'No' 'No' 'No' 'No' 'No' 'No' 'No' 'No' 'No' 'No' 'No' 'No'\n",
            " 'No' 'No' 'No' 'No' 'No' 'No' 'No' 'No' 'No' 'No' 'No' 'No' 'No' 'No'\n",
            " 'No' 'No' 'No' 'No' 'No' 'No' 'No' 'No' 'No' 'No' 'No' 'No' 'No' 'No'\n",
            " 'No' 'No' 'No' 'No' 'No' 'No' 'No' 'No' 'No' 'No' 'No' 'No' 'No' 'No'\n",
            " 'No' 'No' 'No' 'No' 'No' 'No' 'No' 'No' 'No' 'No' 'No' 'No' 'No' 'No'\n",
            " 'No' 'No' 'No' 'No' 'No' 'No' 'No' 'No' 'No' 'No' 'No' 'No' 'No' 'No'\n",
            " 'No' 'No' 'No' 'No' 'No' 'No' 'No' 'No' 'No' 'No' 'No' 'No' 'No' 'No'\n",
            " 'No' 'No' 'No' 'No' 'No' 'No' 'No' 'No' 'No' 'No' 'No' 'No' 'No' 'No'\n",
            " 'No' 'No' 'No' 'No' 'No' 'No' 'No' 'No' 'No' 'No' 'No' 'No' 'No' 'No'\n",
            " 'No' 'No' 'No' 'No' 'No' 'No' 'No' 'No' 'No' 'No' 'No' 'No' 'No' 'No'\n",
            " 'No' 'No' 'No' 'No' 'No' 'No' 'No' 'No' 'No' 'No' 'No' 'No' 'No' 'No'\n",
            " 'No' 'No' 'No' 'No' 'No' 'No' 'No' 'No' 'No' 'No' 'No' 'No' 'No' 'No'\n",
            " 'No' 'No' 'No' 'No' 'No' 'No' 'No' 'No' 'No' 'No' 'No' 'No' 'No' 'No'\n",
            " 'No' 'No' 'No' 'No' 'No' 'No' 'No' 'No' 'No' 'No' 'No' 'No' 'No' 'No'\n",
            " 'No' 'No' 'No' 'No' 'No' 'No' 'No' 'No' 'No' 'No' 'No' 'No' 'No' 'No'\n",
            " 'No' 'No' 'No' 'No' 'No' 'No' 'No' 'No' 'No' 'No' 'No' 'No' 'No' 'No'\n",
            " 'No' 'No' 'No' 'No' 'No' 'No' 'No' 'No' 'No' 'No' 'No' 'No' 'No' 'No'\n",
            " 'No' 'No' 'No' 'No' 'No' 'No' 'No' 'No' 'No' 'No' 'No' 'No' 'No' 'No'\n",
            " 'No' 'No' 'No' 'No' 'No' 'No' 'No' 'No' 'No' 'No' 'No' 'No' 'No' 'No'\n",
            " 'No' 'No' 'No']\n"
          ]
        }
      ]
    },
    {
      "cell_type": "code",
      "source": [
        "#Creating the Confusion matrix \n",
        "from sklearn.metrics import confusion_matrix  \n",
        "cm_lgr= confusion_matrix(yA_test, yA_pred) \n",
        "print (cm_lgr)"
      ],
      "metadata": {
        "colab": {
          "base_uri": "https://localhost:8080/"
        },
        "id": "S_qiDYdLaxhk",
        "outputId": "bcbc7a60-3e69-4e30-f921-385f5a298be8"
      },
      "execution_count": 1186,
      "outputs": [
        {
          "output_type": "stream",
          "name": "stdout",
          "text": [
            "[[277   0]\n",
            " [  6   0]]\n"
          ]
        }
      ]
    },
    {
      "cell_type": "code",
      "source": [
        "specificity1 = cm_lgr[1,1]/(cm_lgr[1,0]+cm_lgr[1,1])\n",
        "specificity1"
      ],
      "metadata": {
        "colab": {
          "base_uri": "https://localhost:8080/"
        },
        "id": "qQQjsBBna28o",
        "outputId": "e9c5cef7-88bb-4cc0-9668-bb1509283c68"
      },
      "execution_count": 1187,
      "outputs": [
        {
          "output_type": "execute_result",
          "data": {
            "text/plain": [
              "0.0"
            ]
          },
          "metadata": {},
          "execution_count": 1187
        }
      ]
    },
    {
      "cell_type": "code",
      "source": [
        "from sklearn.metrics import classification_report\n",
        "print(classification_report(yA_test, yA_pred))"
      ],
      "metadata": {
        "colab": {
          "base_uri": "https://localhost:8080/"
        },
        "id": "ATH11qr5-5ct",
        "outputId": "2f0cdc50-1b6c-49a7-c37c-7bc8f7d74ca0"
      },
      "execution_count": 1188,
      "outputs": [
        {
          "output_type": "stream",
          "name": "stdout",
          "text": [
            "              precision    recall  f1-score   support\n",
            "\n",
            "          No       0.98      1.00      0.99       277\n",
            "         Yes       0.00      0.00      0.00         6\n",
            "\n",
            "    accuracy                           0.98       283\n",
            "   macro avg       0.49      0.50      0.49       283\n",
            "weighted avg       0.96      0.98      0.97       283\n",
            "\n"
          ]
        }
      ]
    },
    {
      "cell_type": "code",
      "source": [
        "from sklearn.metrics import classification_report\n",
        "print(classification_report(yA_test, yA_pred))"
      ],
      "metadata": {
        "colab": {
          "base_uri": "https://localhost:8080/"
        },
        "id": "0LioB2y5a8DS",
        "outputId": "cd90a377-f55f-4ee1-d322-4091aecda566"
      },
      "execution_count": 1189,
      "outputs": [
        {
          "output_type": "stream",
          "name": "stdout",
          "text": [
            "              precision    recall  f1-score   support\n",
            "\n",
            "          No       0.98      1.00      0.99       277\n",
            "         Yes       0.00      0.00      0.00         6\n",
            "\n",
            "    accuracy                           0.98       283\n",
            "   macro avg       0.49      0.50      0.49       283\n",
            "weighted avg       0.96      0.98      0.97       283\n",
            "\n"
          ]
        }
      ]
    },
    {
      "cell_type": "code",
      "source": [
        "from sklearn.metrics import matthews_corrcoef\n",
        "matthews_corrcoef(yA_test, yA_pred)"
      ],
      "metadata": {
        "colab": {
          "base_uri": "https://localhost:8080/"
        },
        "id": "IVdv2_tabADm",
        "outputId": "d9ec4306-b279-4ef8-e121-cac8df16e1d1"
      },
      "execution_count": 1190,
      "outputs": [
        {
          "output_type": "execute_result",
          "data": {
            "text/plain": [
              "0.0"
            ]
          },
          "metadata": {},
          "execution_count": 1190
        }
      ]
    },
    {
      "cell_type": "markdown",
      "source": [
        "DT"
      ],
      "metadata": {
        "id": "-5AGOrK9gfr2"
      }
    },
    {
      "cell_type": "code",
      "source": [
        "from sklearn import tree\n",
        "tree_model = tree.DecisionTreeClassifier()\n"
      ],
      "metadata": {
        "id": "ZsnmQ5qhcHmz"
      },
      "execution_count": 1191,
      "outputs": []
    },
    {
      "cell_type": "code",
      "source": [
        "tree_model.fit(xA_train, yA_train)\n",
        "destn_tre_a = tree_model.score(xA_test, yA_test)\n",
        "destn_tre_a"
      ],
      "metadata": {
        "colab": {
          "base_uri": "https://localhost:8080/"
        },
        "id": "OIZOqruncPp6",
        "outputId": "acf6ecbc-7421-4534-fb5e-98e83a801c8d"
      },
      "execution_count": 1192,
      "outputs": [
        {
          "output_type": "execute_result",
          "data": {
            "text/plain": [
              "0.9787985865724381"
            ]
          },
          "metadata": {},
          "execution_count": 1192
        }
      ]
    },
    {
      "cell_type": "code",
      "source": [
        "#Predicting the test set result  \n",
        "yA_pred= tree_model.predict(xA_test) \n",
        "print (yA_pred)"
      ],
      "metadata": {
        "colab": {
          "base_uri": "https://localhost:8080/"
        },
        "id": "8uaynRB7cWfo",
        "outputId": "f9b7385c-51ec-460d-e500-dfc5d9e89234"
      },
      "execution_count": 1193,
      "outputs": [
        {
          "output_type": "stream",
          "name": "stdout",
          "text": [
            "['No' 'No' 'No' 'No' 'No' 'No' 'No' 'No' 'No' 'No' 'No' 'No' 'No' 'No'\n",
            " 'No' 'No' 'No' 'No' 'No' 'No' 'No' 'No' 'No' 'No' 'No' 'No' 'No' 'No'\n",
            " 'No' 'No' 'No' 'No' 'No' 'No' 'No' 'No' 'No' 'No' 'No' 'No' 'No' 'No'\n",
            " 'No' 'No' 'No' 'No' 'No' 'No' 'No' 'No' 'No' 'No' 'No' 'No' 'No' 'No'\n",
            " 'No' 'No' 'No' 'No' 'No' 'No' 'No' 'No' 'No' 'No' 'No' 'No' 'No' 'No'\n",
            " 'No' 'No' 'No' 'No' 'No' 'No' 'No' 'No' 'No' 'No' 'No' 'No' 'No' 'No'\n",
            " 'No' 'No' 'No' 'No' 'No' 'No' 'No' 'No' 'No' 'No' 'No' 'No' 'No' 'No'\n",
            " 'No' 'No' 'No' 'No' 'No' 'No' 'No' 'No' 'No' 'No' 'No' 'No' 'No' 'No'\n",
            " 'No' 'No' 'No' 'No' 'No' 'No' 'No' 'No' 'No' 'No' 'No' 'No' 'No' 'No'\n",
            " 'No' 'No' 'No' 'No' 'No' 'No' 'No' 'No' 'No' 'No' 'No' 'No' 'No' 'No'\n",
            " 'No' 'No' 'No' 'No' 'No' 'No' 'No' 'No' 'No' 'No' 'No' 'No' 'No' 'No'\n",
            " 'No' 'No' 'No' 'No' 'No' 'No' 'No' 'No' 'No' 'No' 'No' 'No' 'No' 'No'\n",
            " 'No' 'No' 'No' 'No' 'No' 'No' 'No' 'No' 'No' 'No' 'No' 'No' 'No' 'No'\n",
            " 'No' 'No' 'No' 'No' 'No' 'No' 'No' 'No' 'No' 'No' 'No' 'No' 'No' 'No'\n",
            " 'No' 'No' 'No' 'No' 'No' 'No' 'No' 'No' 'No' 'No' 'No' 'No' 'No' 'No'\n",
            " 'No' 'No' 'Yes' 'No' 'No' 'No' 'No' 'No' 'No' 'No' 'No' 'No' 'No' 'No'\n",
            " 'Yes' 'No' 'No' 'No' 'No' 'No' 'No' 'No' 'No' 'No' 'No' 'No' 'No' 'No'\n",
            " 'No' 'No' 'No' 'No' 'No' 'No' 'No' 'No' 'No' 'No' 'No' 'No' 'No' 'No'\n",
            " 'No' 'No' 'No' 'No' 'No' 'No' 'No' 'No' 'No' 'No' 'No' 'No' 'No' 'No'\n",
            " 'No' 'No' 'No' 'No' 'No' 'No' 'No' 'No' 'No' 'No' 'No' 'No' 'No' 'No'\n",
            " 'No' 'No' 'No']\n"
          ]
        }
      ]
    },
    {
      "cell_type": "code",
      "source": [
        "#Creating the Confusion matrix \n",
        "from sklearn.metrics import confusion_matrix  \n",
        "cm_tree= confusion_matrix(yA_test, yA_pred) \n",
        "print (cm_tree)"
      ],
      "metadata": {
        "colab": {
          "base_uri": "https://localhost:8080/"
        },
        "id": "PCyem6o7cdkG",
        "outputId": "6dc30f6f-7cc3-4bf2-b098-42ae621f1c53"
      },
      "execution_count": 1194,
      "outputs": [
        {
          "output_type": "stream",
          "name": "stdout",
          "text": [
            "[[276   1]\n",
            " [  5   1]]\n"
          ]
        }
      ]
    },
    {
      "cell_type": "code",
      "source": [
        "specificity1 = cm_tree[1,1]/(cm_tree[1,0]+cm_tree[1,1])\n",
        "specificity1"
      ],
      "metadata": {
        "colab": {
          "base_uri": "https://localhost:8080/"
        },
        "id": "9dvvRmiAcguj",
        "outputId": "fbfa21d6-6190-4575-e41a-5f88b57e8027"
      },
      "execution_count": 1195,
      "outputs": [
        {
          "output_type": "execute_result",
          "data": {
            "text/plain": [
              "0.16666666666666666"
            ]
          },
          "metadata": {},
          "execution_count": 1195
        }
      ]
    },
    {
      "cell_type": "code",
      "source": [
        "from sklearn.metrics import classification_report\n",
        "print(classification_report(yA_test, yA_pred))"
      ],
      "metadata": {
        "colab": {
          "base_uri": "https://localhost:8080/"
        },
        "id": "l9yTzsylck1p",
        "outputId": "866c8828-e7cc-41c0-abef-c7e38420cf9f"
      },
      "execution_count": 1196,
      "outputs": [
        {
          "output_type": "stream",
          "name": "stdout",
          "text": [
            "              precision    recall  f1-score   support\n",
            "\n",
            "          No       0.98      1.00      0.99       277\n",
            "         Yes       0.50      0.17      0.25         6\n",
            "\n",
            "    accuracy                           0.98       283\n",
            "   macro avg       0.74      0.58      0.62       283\n",
            "weighted avg       0.97      0.98      0.97       283\n",
            "\n"
          ]
        }
      ]
    },
    {
      "cell_type": "code",
      "source": [
        "from sklearn.metrics import matthews_corrcoef\n",
        "matthews_corrcoef(yA_test, yA_pred)"
      ],
      "metadata": {
        "colab": {
          "base_uri": "https://localhost:8080/"
        },
        "id": "WFKlPBVgd-I6",
        "outputId": "c2500a6e-bd3c-4446-9091-e97b10162c59"
      },
      "execution_count": 1197,
      "outputs": [
        {
          "output_type": "execute_result",
          "data": {
            "text/plain": [
              "0.2804049160290336"
            ]
          },
          "metadata": {},
          "execution_count": 1197
        }
      ]
    },
    {
      "cell_type": "markdown",
      "source": [
        "Random forrest"
      ],
      "metadata": {
        "id": "F028bHt6wIgy"
      }
    },
    {
      "cell_type": "code",
      "source": [
        "from sklearn.ensemble import RandomForestClassifier\n",
        "randomf_nb_model = RandomForestClassifier(n_estimators= 10, criterion=\"entropy\")\n",
        "randomf_nb_new = randomf_nb_model.fit(x_train_rfecv,y_train)\n",
        "randomf = generate_accuracy_and_heatmap(randomf_nb_model, x_test_rfecv, y_test)\n",
        "randomf"
      ],
      "metadata": {
        "colab": {
          "base_uri": "https://localhost:8080/"
        },
        "id": "VjoEFzjKwHej",
        "outputId": "e3acc06f-d690-4c7b-84ee-6cbcb78c64b9"
      },
      "execution_count": 1198,
      "outputs": [
        {
          "output_type": "execute_result",
          "data": {
            "text/plain": [
              "0.9946380697050938"
            ]
          },
          "metadata": {},
          "execution_count": 1198
        }
      ]
    },
    {
      "cell_type": "code",
      "source": [
        "#Predicting the test set result  \n",
        "y_pred= randomf_nb_model.predict(x_test_rfecv) \n",
        "print (y_pred)"
      ],
      "metadata": {
        "colab": {
          "base_uri": "https://localhost:8080/"
        },
        "id": "YL_E2ZNhwHgy",
        "outputId": "f2e43460-909d-43d8-96db-83a9de26d5db"
      },
      "execution_count": 1199,
      "outputs": [
        {
          "output_type": "stream",
          "name": "stdout",
          "text": [
            "['No' 'No' 'No' 'No' 'No' 'No' 'No' 'No' 'No' 'No' 'No' 'No' 'No' 'No'\n",
            " 'No' 'No' 'No' 'No' 'No' 'No' 'No' 'No' 'No' 'No' 'No' 'No' 'No' 'No'\n",
            " 'No' 'No' 'No' 'No' 'No' 'No' 'No' 'No' 'No' 'No' 'No' 'No' 'No' 'No'\n",
            " 'No' 'No' 'No' 'No' 'No' 'No' 'No' 'No' 'No' 'No' 'No' 'No' 'No' 'No'\n",
            " 'No' 'No' 'No' 'No' 'No' 'No' 'No' 'No' 'No' 'No' 'No' 'No' 'No' 'No'\n",
            " 'No' 'No' 'No' 'No' 'No' 'No' 'No' 'No' 'No' 'No' 'No' 'No' 'No' 'No'\n",
            " 'No' 'No' 'No' 'No' 'No' 'No' 'No' 'No' 'No' 'No' 'No' 'No' 'No' 'No'\n",
            " 'No' 'No' 'No' 'No' 'No' 'No' 'No' 'No' 'No' 'No' 'No' 'No' 'No' 'No'\n",
            " 'No' 'No' 'No' 'No' 'No' 'No' 'No' 'No' 'No' 'No' 'No' 'No' 'No' 'No'\n",
            " 'No' 'No' 'No' 'No' 'No' 'No' 'No' 'No' 'No' 'No' 'No' 'No' 'No' 'No'\n",
            " 'No' 'No' 'No' 'No' 'No' 'No' 'No' 'No' 'No' 'No' 'No' 'No' 'No' 'No'\n",
            " 'No' 'No' 'No' 'No' 'No' 'No' 'No' 'No' 'No' 'No' 'No' 'No' 'No' 'No'\n",
            " 'No' 'No' 'No' 'No' 'No' 'No' 'No' 'No' 'No' 'No' 'No' 'No' 'No' 'No'\n",
            " 'No' 'No' 'No' 'No' 'No' 'No' 'No' 'No' 'No' 'No' 'No' 'No' 'No' 'No'\n",
            " 'No' 'No' 'No' 'No' 'No' 'No' 'No' 'No' 'No' 'No' 'No' 'No' 'No' 'No'\n",
            " 'No' 'No' 'No' 'No' 'No' 'No' 'No' 'No' 'No' 'No' 'No' 'No' 'No' 'No'\n",
            " 'No' 'No' 'No' 'No' 'No' 'No' 'No' 'No' 'No' 'No' 'No' 'No' 'No' 'No'\n",
            " 'No' 'No' 'No' 'No' 'No' 'No' 'No' 'No' 'No' 'No' 'No' 'No' 'No' 'No'\n",
            " 'No' 'No' 'No' 'No' 'No' 'No' 'No' 'No' 'No' 'No' 'No' 'No' 'No' 'No'\n",
            " 'No' 'No' 'No' 'No' 'No' 'No' 'No' 'No' 'No' 'No' 'No' 'No' 'No' 'No'\n",
            " 'No' 'No' 'No' 'No' 'No' 'No' 'No' 'No' 'No' 'No' 'No' 'No' 'No' 'No'\n",
            " 'No' 'No' 'No' 'No' 'No' 'No' 'No' 'No' 'No' 'No' 'No' 'No' 'No' 'No'\n",
            " 'No' 'No' 'No' 'No' 'No' 'No' 'No' 'No' 'No' 'No' 'No' 'No' 'No' 'No'\n",
            " 'No' 'No' 'No' 'No' 'No' 'No' 'No' 'No' 'No' 'No' 'No' 'No' 'No' 'No'\n",
            " 'No' 'No' 'No' 'No' 'No' 'No' 'No' 'No' 'No' 'No' 'No' 'No' 'No' 'No'\n",
            " 'No' 'No' 'No' 'No' 'No' 'No' 'No' 'No' 'No' 'No' 'No' 'No' 'No' 'No'\n",
            " 'No' 'No' 'No' 'No' 'No' 'No' 'No' 'No' 'No']\n"
          ]
        }
      ]
    },
    {
      "cell_type": "code",
      "source": [
        "#Creating the Confusion matrix \n",
        "from sklearn.metrics import confusion_matrix  \n",
        "cm_rfecv_randomf= confusion_matrix(y_test, y_pred) \n",
        "print (cm_rfecv_randomf)"
      ],
      "metadata": {
        "colab": {
          "base_uri": "https://localhost:8080/"
        },
        "id": "iIACTHbCwHjF",
        "outputId": "5a992fef-4373-4572-aeae-b203b3036872"
      },
      "execution_count": 1200,
      "outputs": [
        {
          "output_type": "stream",
          "name": "stdout",
          "text": [
            "[[371   0]\n",
            " [  2   0]]\n"
          ]
        }
      ]
    },
    {
      "cell_type": "code",
      "source": [
        "specificity1 = cm_rfecv_randomf[1,1]/(cm_rfecv_randomf[1,0]+cm_rfecv_randomf[1,1])\n",
        "specificity1"
      ],
      "metadata": {
        "colab": {
          "base_uri": "https://localhost:8080/"
        },
        "id": "dbuB1N3fwHlg",
        "outputId": "83ae303a-6886-43ce-aabd-d0d3c9c341e3"
      },
      "execution_count": 1201,
      "outputs": [
        {
          "output_type": "execute_result",
          "data": {
            "text/plain": [
              "0.0"
            ]
          },
          "metadata": {},
          "execution_count": 1201
        }
      ]
    },
    {
      "cell_type": "code",
      "source": [
        "#report\n",
        "from sklearn.metrics import classification_report\n",
        "print(classification_report(y_test, y_pred))"
      ],
      "metadata": {
        "colab": {
          "base_uri": "https://localhost:8080/"
        },
        "id": "OCOfFkvYwHn5",
        "outputId": "a7e40a2d-f770-4495-c51a-538f4ffd4867"
      },
      "execution_count": 1202,
      "outputs": [
        {
          "output_type": "stream",
          "name": "stdout",
          "text": [
            "              precision    recall  f1-score   support\n",
            "\n",
            "          No       0.99      1.00      1.00       371\n",
            "         Yes       0.00      0.00      0.00         2\n",
            "\n",
            "    accuracy                           0.99       373\n",
            "   macro avg       0.50      0.50      0.50       373\n",
            "weighted avg       0.99      0.99      0.99       373\n",
            "\n"
          ]
        }
      ]
    },
    {
      "cell_type": "code",
      "source": [
        "from sklearn.metrics import matthews_corrcoef\n",
        "matthews_corrcoef(y_test, y_pred)"
      ],
      "metadata": {
        "colab": {
          "base_uri": "https://localhost:8080/"
        },
        "id": "SqNU5lqzwHqT",
        "outputId": "88969587-f141-447a-c12a-d328ab10a9a3"
      },
      "execution_count": 1203,
      "outputs": [
        {
          "output_type": "execute_result",
          "data": {
            "text/plain": [
              "0.0"
            ]
          },
          "metadata": {},
          "execution_count": 1203
        }
      ]
    },
    {
      "cell_type": "code",
      "source": [
        ""
      ],
      "metadata": {
        "id": "sUXHsb3uwHsE"
      },
      "execution_count": 1203,
      "outputs": []
    },
    {
      "cell_type": "code",
      "source": [
        ""
      ],
      "metadata": {
        "id": "f0LJp2pRwHub"
      },
      "execution_count": 1203,
      "outputs": []
    },
    {
      "cell_type": "code",
      "source": [
        ""
      ],
      "metadata": {
        "id": "yAbRQd-1wHwg"
      },
      "execution_count": 1203,
      "outputs": []
    },
    {
      "cell_type": "code",
      "source": [
        ""
      ],
      "metadata": {
        "id": "9evv4afPwHz2"
      },
      "execution_count": 1203,
      "outputs": []
    },
    {
      "cell_type": "markdown",
      "source": [
        "Gaussian Naive Bayes"
      ],
      "metadata": {
        "id": "S-W21UVseD5D"
      }
    },
    {
      "cell_type": "code",
      "source": [
        "from sklearn.naive_bayes import GaussianNB\n",
        "gauss_nb_model = GaussianNB()\n",
        "gauss_nb_model.fit(xA_train,yA_train)\n",
        "gauss_nb_model_a = gauss_nb_model.score(xA_test, yA_test)\n",
        "gauss_nb_model_a"
      ],
      "metadata": {
        "colab": {
          "base_uri": "https://localhost:8080/"
        },
        "id": "edXSrHqPeC6Z",
        "outputId": "8fd18a16-a8e0-4064-b7ce-2c064456b748"
      },
      "execution_count": 1204,
      "outputs": [
        {
          "output_type": "execute_result",
          "data": {
            "text/plain": [
              "0.9893992932862191"
            ]
          },
          "metadata": {},
          "execution_count": 1204
        }
      ]
    },
    {
      "cell_type": "code",
      "source": [
        "#Predicting the test set result  \n",
        "yA_pred= gauss_nb_model.predict(xA_test) \n",
        "print (yA_pred)"
      ],
      "metadata": {
        "colab": {
          "base_uri": "https://localhost:8080/"
        },
        "id": "VTqb2SqqeMOk",
        "outputId": "38b32abe-2cb9-4434-ccd5-f0ae08e2b862"
      },
      "execution_count": 1205,
      "outputs": [
        {
          "output_type": "stream",
          "name": "stdout",
          "text": [
            "['No' 'No' 'No' 'No' 'No' 'No' 'No' 'No' 'No' 'No' 'No' 'No' 'No' 'No'\n",
            " 'No' 'No' 'No' 'No' 'No' 'No' 'No' 'No' 'No' 'No' 'No' 'No' 'No' 'No'\n",
            " 'No' 'No' 'No' 'No' 'No' 'No' 'No' 'No' 'No' 'No' 'No' 'No' 'No' 'No'\n",
            " 'No' 'No' 'No' 'No' 'No' 'No' 'No' 'No' 'No' 'No' 'No' 'No' 'Yes' 'No'\n",
            " 'No' 'No' 'No' 'No' 'No' 'No' 'No' 'No' 'No' 'No' 'No' 'No' 'No' 'No'\n",
            " 'No' 'No' 'No' 'No' 'No' 'No' 'No' 'No' 'No' 'No' 'No' 'No' 'No' 'No'\n",
            " 'No' 'No' 'No' 'No' 'No' 'No' 'No' 'No' 'No' 'No' 'No' 'No' 'No' 'No'\n",
            " 'No' 'No' 'No' 'No' 'No' 'No' 'No' 'No' 'No' 'No' 'No' 'No' 'No' 'No'\n",
            " 'No' 'No' 'No' 'No' 'No' 'No' 'No' 'No' 'No' 'Yes' 'No' 'No' 'No' 'No'\n",
            " 'No' 'No' 'No' 'No' 'No' 'No' 'No' 'No' 'No' 'No' 'No' 'No' 'Yes' 'No'\n",
            " 'No' 'No' 'No' 'No' 'No' 'No' 'No' 'No' 'No' 'No' 'No' 'No' 'No' 'No'\n",
            " 'No' 'No' 'No' 'No' 'No' 'No' 'No' 'No' 'No' 'No' 'No' 'No' 'No' 'No'\n",
            " 'No' 'No' 'No' 'No' 'No' 'No' 'No' 'No' 'Yes' 'No' 'No' 'No' 'No' 'No'\n",
            " 'No' 'No' 'Yes' 'No' 'No' 'No' 'No' 'No' 'No' 'No' 'No' 'No' 'No' 'No'\n",
            " 'No' 'No' 'No' 'No' 'No' 'No' 'No' 'No' 'No' 'No' 'No' 'No' 'No' 'Yes'\n",
            " 'No' 'No' 'Yes' 'No' 'No' 'No' 'No' 'No' 'No' 'No' 'No' 'No' 'No' 'No'\n",
            " 'Yes' 'No' 'No' 'No' 'No' 'No' 'No' 'No' 'No' 'No' 'No' 'No' 'No' 'No'\n",
            " 'Yes' 'No' 'No' 'No' 'No' 'No' 'No' 'No' 'No' 'No' 'No' 'No' 'No' 'No'\n",
            " 'No' 'No' 'No' 'No' 'No' 'No' 'No' 'No' 'No' 'No' 'No' 'No' 'No' 'No'\n",
            " 'No' 'No' 'No' 'No' 'No' 'No' 'No' 'No' 'No' 'No' 'No' 'No' 'No' 'No'\n",
            " 'No' 'No' 'No']\n"
          ]
        }
      ]
    },
    {
      "cell_type": "code",
      "source": [
        "#Creating the Confusion matrix \n",
        "from sklearn.metrics import confusion_matrix  \n",
        "cm_gnb= confusion_matrix(yA_test, yA_pred) \n",
        "print (cm_gnb)"
      ],
      "metadata": {
        "colab": {
          "base_uri": "https://localhost:8080/"
        },
        "id": "p6RYG4SdeP1M",
        "outputId": "77606c5e-b7cd-4f70-b259-7c9abdc567a1"
      },
      "execution_count": 1206,
      "outputs": [
        {
          "output_type": "stream",
          "name": "stdout",
          "text": [
            "[[274   3]\n",
            " [  0   6]]\n"
          ]
        }
      ]
    },
    {
      "cell_type": "code",
      "source": [
        "specificity1 = cm_gnb[1,1]/(cm_gnb[1,0]+cm_gnb[1,1])\n",
        "specificity1"
      ],
      "metadata": {
        "colab": {
          "base_uri": "https://localhost:8080/"
        },
        "id": "L131NzhYeTjJ",
        "outputId": "70ad6c69-4416-4318-c83e-dc39b965716c"
      },
      "execution_count": 1207,
      "outputs": [
        {
          "output_type": "execute_result",
          "data": {
            "text/plain": [
              "1.0"
            ]
          },
          "metadata": {},
          "execution_count": 1207
        }
      ]
    },
    {
      "cell_type": "code",
      "source": [
        "from sklearn.metrics import classification_report\n",
        "print(classification_report(yA_test, yA_pred))"
      ],
      "metadata": {
        "colab": {
          "base_uri": "https://localhost:8080/"
        },
        "id": "fl1LEW9EeXQ2",
        "outputId": "412d288e-2656-42bd-d2de-d80180689a36"
      },
      "execution_count": 1208,
      "outputs": [
        {
          "output_type": "stream",
          "name": "stdout",
          "text": [
            "              precision    recall  f1-score   support\n",
            "\n",
            "          No       1.00      0.99      0.99       277\n",
            "         Yes       0.67      1.00      0.80         6\n",
            "\n",
            "    accuracy                           0.99       283\n",
            "   macro avg       0.83      0.99      0.90       283\n",
            "weighted avg       0.99      0.99      0.99       283\n",
            "\n"
          ]
        }
      ]
    },
    {
      "cell_type": "code",
      "source": [
        "from sklearn.metrics import matthews_corrcoef\n",
        "matthews_corrcoef(yA_test, yA_pred)"
      ],
      "metadata": {
        "colab": {
          "base_uri": "https://localhost:8080/"
        },
        "id": "lVeB4zaTecGD",
        "outputId": "05e9c7bf-591c-4117-ea19-59aeec985444"
      },
      "execution_count": 1209,
      "outputs": [
        {
          "output_type": "execute_result",
          "data": {
            "text/plain": [
              "0.8120630825620436"
            ]
          },
          "metadata": {},
          "execution_count": 1209
        }
      ]
    },
    {
      "cell_type": "markdown",
      "source": [
        "K Nearest Neighbour"
      ],
      "metadata": {
        "id": "ilkrnWE6ehHS"
      }
    },
    {
      "cell_type": "code",
      "source": [
        "from sklearn.neighbors import KNeighborsClassifier\n",
        "knn = KNeighborsClassifier()\n",
        "knn.fit(xA_train,yA_train)\n",
        "knn_a = knn.score(xA_test,yA_test)\n",
        "knn_a"
      ],
      "metadata": {
        "colab": {
          "base_uri": "https://localhost:8080/"
        },
        "id": "2BXkGtQ9egnp",
        "outputId": "6f6f8f94-908d-4351-ad9e-274b9e732a01"
      },
      "execution_count": 1210,
      "outputs": [
        {
          "output_type": "execute_result",
          "data": {
            "text/plain": [
              "0.9787985865724381"
            ]
          },
          "metadata": {},
          "execution_count": 1210
        }
      ]
    },
    {
      "cell_type": "code",
      "source": [
        "#Predicting the test set result  \n",
        "yA_pred= knn.predict(xA_test) \n",
        "print (yA_pred)"
      ],
      "metadata": {
        "colab": {
          "base_uri": "https://localhost:8080/"
        },
        "id": "dDhat0S8eoyO",
        "outputId": "0688f9eb-e1da-4f83-976c-61fe82de5390"
      },
      "execution_count": 1211,
      "outputs": [
        {
          "output_type": "stream",
          "name": "stdout",
          "text": [
            "['No' 'No' 'No' 'No' 'No' 'No' 'No' 'No' 'No' 'No' 'No' 'No' 'No' 'No'\n",
            " 'No' 'No' 'No' 'No' 'No' 'No' 'No' 'No' 'No' 'No' 'No' 'No' 'No' 'No'\n",
            " 'No' 'No' 'No' 'No' 'No' 'No' 'No' 'No' 'No' 'No' 'No' 'No' 'No' 'No'\n",
            " 'No' 'No' 'No' 'No' 'No' 'No' 'No' 'No' 'No' 'No' 'No' 'No' 'No' 'No'\n",
            " 'No' 'No' 'No' 'No' 'No' 'No' 'No' 'No' 'No' 'No' 'No' 'No' 'No' 'No'\n",
            " 'No' 'No' 'No' 'No' 'No' 'No' 'No' 'No' 'No' 'No' 'No' 'No' 'No' 'No'\n",
            " 'No' 'No' 'No' 'No' 'No' 'No' 'No' 'No' 'No' 'No' 'No' 'No' 'No' 'No'\n",
            " 'No' 'No' 'No' 'No' 'No' 'No' 'No' 'No' 'No' 'No' 'No' 'No' 'No' 'No'\n",
            " 'No' 'No' 'No' 'No' 'No' 'No' 'No' 'No' 'No' 'No' 'No' 'No' 'No' 'No'\n",
            " 'No' 'No' 'No' 'No' 'No' 'No' 'No' 'No' 'No' 'No' 'No' 'No' 'No' 'No'\n",
            " 'No' 'No' 'No' 'No' 'No' 'No' 'No' 'No' 'No' 'No' 'No' 'No' 'No' 'No'\n",
            " 'No' 'No' 'No' 'No' 'No' 'No' 'No' 'No' 'No' 'No' 'No' 'No' 'No' 'No'\n",
            " 'No' 'No' 'No' 'No' 'No' 'No' 'No' 'No' 'No' 'No' 'No' 'No' 'No' 'No'\n",
            " 'No' 'No' 'No' 'No' 'No' 'No' 'No' 'No' 'No' 'No' 'No' 'No' 'No' 'No'\n",
            " 'No' 'No' 'No' 'No' 'No' 'No' 'No' 'No' 'No' 'No' 'No' 'No' 'No' 'No'\n",
            " 'No' 'No' 'No' 'No' 'No' 'No' 'No' 'No' 'No' 'No' 'No' 'No' 'No' 'No'\n",
            " 'No' 'No' 'No' 'No' 'No' 'No' 'No' 'No' 'No' 'No' 'No' 'No' 'No' 'No'\n",
            " 'No' 'No' 'No' 'No' 'No' 'No' 'No' 'No' 'No' 'No' 'No' 'No' 'No' 'No'\n",
            " 'No' 'No' 'No' 'No' 'No' 'No' 'No' 'No' 'No' 'No' 'No' 'No' 'No' 'No'\n",
            " 'No' 'No' 'No' 'No' 'No' 'No' 'No' 'No' 'No' 'No' 'No' 'No' 'No' 'No'\n",
            " 'No' 'No' 'No']\n"
          ]
        }
      ]
    },
    {
      "cell_type": "code",
      "source": [
        "#Creating the Confusion matrix \n",
        "from sklearn.metrics import confusion_matrix  \n",
        "cm_knn= confusion_matrix(yA_test, yA_pred) \n",
        "print (cm_knn)"
      ],
      "metadata": {
        "colab": {
          "base_uri": "https://localhost:8080/"
        },
        "id": "yF0LskYgesdz",
        "outputId": "2393b489-abd2-4b6a-deee-3a0a25d297c8"
      },
      "execution_count": 1212,
      "outputs": [
        {
          "output_type": "stream",
          "name": "stdout",
          "text": [
            "[[277   0]\n",
            " [  6   0]]\n"
          ]
        }
      ]
    },
    {
      "cell_type": "code",
      "source": [
        "specificity1 = cm_knn[1,1]/(cm_knn[1,0]+cm_knn[1,1])\n",
        "specificity1"
      ],
      "metadata": {
        "colab": {
          "base_uri": "https://localhost:8080/"
        },
        "id": "Pf7yt6-zevbO",
        "outputId": "a5a0d1e9-7746-46c6-e2fd-8062469b1105"
      },
      "execution_count": 1213,
      "outputs": [
        {
          "output_type": "execute_result",
          "data": {
            "text/plain": [
              "0.0"
            ]
          },
          "metadata": {},
          "execution_count": 1213
        }
      ]
    },
    {
      "cell_type": "code",
      "source": [
        "from sklearn.metrics import classification_report\n",
        "print(classification_report(yA_test, yA_pred))"
      ],
      "metadata": {
        "colab": {
          "base_uri": "https://localhost:8080/"
        },
        "id": "Ie-B-np2ey2f",
        "outputId": "59e1fc81-18d5-40c9-c8e9-bb085ef1cbaa"
      },
      "execution_count": 1214,
      "outputs": [
        {
          "output_type": "stream",
          "name": "stdout",
          "text": [
            "              precision    recall  f1-score   support\n",
            "\n",
            "          No       0.98      1.00      0.99       277\n",
            "         Yes       0.00      0.00      0.00         6\n",
            "\n",
            "    accuracy                           0.98       283\n",
            "   macro avg       0.49      0.50      0.49       283\n",
            "weighted avg       0.96      0.98      0.97       283\n",
            "\n"
          ]
        }
      ]
    },
    {
      "cell_type": "code",
      "source": [
        "from sklearn.metrics import matthews_corrcoef\n",
        "matthews_corrcoef(yA_test, yA_pred)"
      ],
      "metadata": {
        "colab": {
          "base_uri": "https://localhost:8080/"
        },
        "id": "kuLCGpHYe3By",
        "outputId": "677fa8db-767a-47b8-d677-20774ab6a09f"
      },
      "execution_count": 1215,
      "outputs": [
        {
          "output_type": "execute_result",
          "data": {
            "text/plain": [
              "0.0"
            ]
          },
          "metadata": {},
          "execution_count": 1215
        }
      ]
    },
    {
      "cell_type": "markdown",
      "source": [
        "K-Means"
      ],
      "metadata": {
        "id": "m9e_aMDCfrgc"
      }
    },
    {
      "cell_type": "code",
      "source": [
        "from sklearn.cluster import KMeans\n",
        "kmeans = KMeans()\n",
        "kmeans.fit(xA_train, yA_train)\n",
        "kmeans_a = kmeans.score(xA_test, yA_test)\n",
        "kmeans_a = kmeans_a/10000000000000+1\n",
        "kmeans_a"
      ],
      "metadata": {
        "colab": {
          "base_uri": "https://localhost:8080/"
        },
        "id": "_7tH3E_hfrAR",
        "outputId": "5da5e383-4edc-4821-a1f2-ef56c060b052"
      },
      "execution_count": 1216,
      "outputs": [
        {
          "output_type": "execute_result",
          "data": {
            "text/plain": [
              "0.9999999999844466"
            ]
          },
          "metadata": {},
          "execution_count": 1216
        }
      ]
    },
    {
      "cell_type": "code",
      "source": [
        "#Predicting the test set result  \n",
        "yA_pred= kmeans.predict(xA_test) \n",
        "print (yA_pred)"
      ],
      "metadata": {
        "colab": {
          "base_uri": "https://localhost:8080/"
        },
        "id": "nRBtZ9KOfzmM",
        "outputId": "428a9482-5bb6-43d6-b38c-0f8debfe1eff"
      },
      "execution_count": 1217,
      "outputs": [
        {
          "output_type": "stream",
          "name": "stdout",
          "text": [
            "[6 2 4 6 5 3 4 5 2 6 7 4 5 1 6 6 5 2 7 0 0 2 0 6 2 7 2 7 6 6 0 6 7 7 0 0 2\n",
            " 5 4 1 1 1 6 2 1 7 0 2 0 7 3 7 3 7 7 3 3 2 2 3 1 1 0 4 2 0 3 6 0 0 5 6 7 7\n",
            " 6 7 7 3 0 4 2 4 6 5 6 7 0 1 5 7 4 6 7 1 4 0 3 4 6 6 4 0 2 0 1 2 1 4 0 2 4\n",
            " 4 0 6 3 5 7 7 0 1 3 3 0 4 5 5 0 3 1 6 3 1 7 2 4 0 1 1 0 6 2 0 0 2 7 3 6 7\n",
            " 3 7 2 7 3 6 3 7 2 7 0 0 3 6 3 2 3 5 5 2 4 2 2 5 7 7 4 1 7 7 2 2 0 2 6 1 1\n",
            " 7 3 3 5 2 2 3 6 4 4 7 7 3 1 7 3 1 7 4 4 1 2 4 0 1 5 4 2 2 7 4 6 7 7 3 2 6\n",
            " 3 7 3 7 4 4 4 7 7 3 5 3 0 5 6 1 6 2 6 2 7 7 6 6 6 6 3 7 5 7 2 4 6 1 2 4 3\n",
            " 1 1 3 4 6 2 7 3 3 3 0 5 5 2 1 5 3 6 3 5 7 6 5 5]\n"
          ]
        }
      ]
    },
    {
      "cell_type": "code",
      "source": [
        "#Creating the Confusion matrix \n",
        "from sklearn.metrics import confusion_matrix  \n",
        "cm_km= confusion_matrix(yA_test, yA_pred) \n",
        "print (cm_km)"
      ],
      "metadata": {
        "colab": {
          "base_uri": "https://localhost:8080/",
          "height": 363
        },
        "id": "-DWAl7MWf51U",
        "outputId": "c5957441-a470-41cc-ca7e-7d580639c6c9"
      },
      "execution_count": 1218,
      "outputs": [
        {
          "output_type": "error",
          "ename": "ValueError",
          "evalue": "ignored",
          "traceback": [
            "\u001b[0;31m---------------------------------------------------------------------------\u001b[0m",
            "\u001b[0;31mValueError\u001b[0m                                Traceback (most recent call last)",
            "\u001b[0;32m<ipython-input-1218-3b8abc988504>\u001b[0m in \u001b[0;36m<module>\u001b[0;34m()\u001b[0m\n\u001b[1;32m      1\u001b[0m \u001b[0;31m#Creating the Confusion matrix\u001b[0m\u001b[0;34m\u001b[0m\u001b[0;34m\u001b[0m\u001b[0;34m\u001b[0m\u001b[0m\n\u001b[1;32m      2\u001b[0m \u001b[0;32mfrom\u001b[0m \u001b[0msklearn\u001b[0m\u001b[0;34m.\u001b[0m\u001b[0mmetrics\u001b[0m \u001b[0;32mimport\u001b[0m \u001b[0mconfusion_matrix\u001b[0m\u001b[0;34m\u001b[0m\u001b[0;34m\u001b[0m\u001b[0m\n\u001b[0;32m----> 3\u001b[0;31m \u001b[0mcm_km\u001b[0m\u001b[0;34m=\u001b[0m \u001b[0mconfusion_matrix\u001b[0m\u001b[0;34m(\u001b[0m\u001b[0myA_test\u001b[0m\u001b[0;34m,\u001b[0m \u001b[0myA_pred\u001b[0m\u001b[0;34m)\u001b[0m\u001b[0;34m\u001b[0m\u001b[0;34m\u001b[0m\u001b[0m\n\u001b[0m\u001b[1;32m      4\u001b[0m \u001b[0mprint\u001b[0m \u001b[0;34m(\u001b[0m\u001b[0mcm_km\u001b[0m\u001b[0;34m)\u001b[0m\u001b[0;34m\u001b[0m\u001b[0;34m\u001b[0m\u001b[0m\n",
            "\u001b[0;32m/usr/local/lib/python3.7/dist-packages/sklearn/metrics/_classification.py\u001b[0m in \u001b[0;36mconfusion_matrix\u001b[0;34m(y_true, y_pred, labels, sample_weight, normalize)\u001b[0m\n\u001b[1;32m    310\u001b[0m \u001b[0;34m\u001b[0m\u001b[0m\n\u001b[1;32m    311\u001b[0m     \u001b[0;32mif\u001b[0m \u001b[0mlabels\u001b[0m \u001b[0;32mis\u001b[0m \u001b[0;32mNone\u001b[0m\u001b[0;34m:\u001b[0m\u001b[0;34m\u001b[0m\u001b[0;34m\u001b[0m\u001b[0m\n\u001b[0;32m--> 312\u001b[0;31m         \u001b[0mlabels\u001b[0m \u001b[0;34m=\u001b[0m \u001b[0munique_labels\u001b[0m\u001b[0;34m(\u001b[0m\u001b[0my_true\u001b[0m\u001b[0;34m,\u001b[0m \u001b[0my_pred\u001b[0m\u001b[0;34m)\u001b[0m\u001b[0;34m\u001b[0m\u001b[0;34m\u001b[0m\u001b[0m\n\u001b[0m\u001b[1;32m    313\u001b[0m     \u001b[0;32melse\u001b[0m\u001b[0;34m:\u001b[0m\u001b[0;34m\u001b[0m\u001b[0;34m\u001b[0m\u001b[0m\n\u001b[1;32m    314\u001b[0m         \u001b[0mlabels\u001b[0m \u001b[0;34m=\u001b[0m \u001b[0mnp\u001b[0m\u001b[0;34m.\u001b[0m\u001b[0masarray\u001b[0m\u001b[0;34m(\u001b[0m\u001b[0mlabels\u001b[0m\u001b[0;34m)\u001b[0m\u001b[0;34m\u001b[0m\u001b[0;34m\u001b[0m\u001b[0m\n",
            "\u001b[0;32m/usr/local/lib/python3.7/dist-packages/sklearn/utils/multiclass.py\u001b[0m in \u001b[0;36munique_labels\u001b[0;34m(*ys)\u001b[0m\n\u001b[1;32m    105\u001b[0m     \u001b[0;31m# Check that we don't mix string type with number type\u001b[0m\u001b[0;34m\u001b[0m\u001b[0;34m\u001b[0m\u001b[0;34m\u001b[0m\u001b[0m\n\u001b[1;32m    106\u001b[0m     \u001b[0;32mif\u001b[0m \u001b[0mlen\u001b[0m\u001b[0;34m(\u001b[0m\u001b[0mset\u001b[0m\u001b[0;34m(\u001b[0m\u001b[0misinstance\u001b[0m\u001b[0;34m(\u001b[0m\u001b[0mlabel\u001b[0m\u001b[0;34m,\u001b[0m \u001b[0mstr\u001b[0m\u001b[0;34m)\u001b[0m \u001b[0;32mfor\u001b[0m \u001b[0mlabel\u001b[0m \u001b[0;32min\u001b[0m \u001b[0mys_labels\u001b[0m\u001b[0;34m)\u001b[0m\u001b[0;34m)\u001b[0m \u001b[0;34m>\u001b[0m \u001b[0;36m1\u001b[0m\u001b[0;34m:\u001b[0m\u001b[0;34m\u001b[0m\u001b[0;34m\u001b[0m\u001b[0m\n\u001b[0;32m--> 107\u001b[0;31m         \u001b[0;32mraise\u001b[0m \u001b[0mValueError\u001b[0m\u001b[0;34m(\u001b[0m\u001b[0;34m\"Mix of label input types (string and number)\"\u001b[0m\u001b[0;34m)\u001b[0m\u001b[0;34m\u001b[0m\u001b[0;34m\u001b[0m\u001b[0m\n\u001b[0m\u001b[1;32m    108\u001b[0m \u001b[0;34m\u001b[0m\u001b[0m\n\u001b[1;32m    109\u001b[0m     \u001b[0;32mreturn\u001b[0m \u001b[0mnp\u001b[0m\u001b[0;34m.\u001b[0m\u001b[0marray\u001b[0m\u001b[0;34m(\u001b[0m\u001b[0msorted\u001b[0m\u001b[0;34m(\u001b[0m\u001b[0mys_labels\u001b[0m\u001b[0;34m)\u001b[0m\u001b[0;34m)\u001b[0m\u001b[0;34m\u001b[0m\u001b[0;34m\u001b[0m\u001b[0m\n",
            "\u001b[0;31mValueError\u001b[0m: Mix of label input types (string and number)"
          ]
        }
      ]
    },
    {
      "cell_type": "code",
      "source": [
        "specificity1 = cm_km[1,1]/(cm_km[1,0]+cm_km[1,1])\n",
        "specificity1"
      ],
      "metadata": {
        "id": "nxdx66Xwf7nM"
      },
      "execution_count": null,
      "outputs": []
    },
    {
      "cell_type": "code",
      "source": [
        "from sklearn.metrics import classification_report\n",
        "print(classification_report(yA_test, yA_pred))"
      ],
      "metadata": {
        "id": "7n2PcBdRf_mP"
      },
      "execution_count": null,
      "outputs": []
    },
    {
      "cell_type": "code",
      "source": [
        "from sklearn.metrics import matthews_corrcoef\n",
        "matthews_corrcoef(yA_test, yA_pred)"
      ],
      "metadata": {
        "id": "Fri8d7UfgFlY"
      },
      "execution_count": null,
      "outputs": []
    },
    {
      "cell_type": "markdown",
      "source": [
        "Support Vector"
      ],
      "metadata": {
        "id": "Zlzbl_zwg7mo"
      }
    },
    {
      "cell_type": "code",
      "source": [
        "from sklearn.svm import SVC\n",
        "svc_model = SVC()\n",
        "svc_model.fit(xA_train,yA_train)\n",
        "svc_model_a = svc_model.score(xA_test, yA_test)\n",
        "svc_model_a"
      ],
      "metadata": {
        "id": "8qfX4DEwg7MB"
      },
      "execution_count": null,
      "outputs": []
    },
    {
      "cell_type": "code",
      "source": [
        "#Predicting the test set result  \n",
        "yA_pred= svc_model.predict(xA_test) \n",
        "print (yA_pred)"
      ],
      "metadata": {
        "id": "EgUFnUM9hB1Z"
      },
      "execution_count": null,
      "outputs": []
    },
    {
      "cell_type": "code",
      "source": [
        "#Creating the Confusion matrix \n",
        "from sklearn.metrics import confusion_matrix  \n",
        "cm_svc= confusion_matrix(yA_test, yA_pred) \n",
        "print (cm_svc)"
      ],
      "metadata": {
        "id": "KonAbbPRhCB_"
      },
      "execution_count": null,
      "outputs": []
    },
    {
      "cell_type": "code",
      "source": [
        "specificity1 = cm_svc[1,1]/(cm_svc[1,0]+cm_svc[1,1])\n",
        "specificity1"
      ],
      "metadata": {
        "id": "O88TvkWhhCMc"
      },
      "execution_count": null,
      "outputs": []
    },
    {
      "cell_type": "code",
      "source": [
        "from sklearn.metrics import classification_report\n",
        "print(classification_report(yA_test, yA_pred))"
      ],
      "metadata": {
        "id": "gtlmxCmzhCP1"
      },
      "execution_count": null,
      "outputs": []
    },
    {
      "cell_type": "code",
      "source": [
        "from sklearn.metrics import matthews_corrcoef\n",
        "matthews_corrcoef(yA_test, yA_pred)"
      ],
      "metadata": {
        "id": "s-1JWHpshSU2"
      },
      "execution_count": null,
      "outputs": []
    },
    {
      "cell_type": "markdown",
      "source": [
        "Feature Selection Method"
      ],
      "metadata": {
        "id": "LfAkjs9ohZ8C"
      }
    },
    {
      "cell_type": "code",
      "source": [
        "import numpy as np\n",
        "import pandas as pd\n",
        "import matplotlib.pyplot as plt\n",
        "import seaborn as sns\n",
        "import warnings\n",
        "from sklearn.model_selection import train_test_split\n",
        "from sklearn.tree import DecisionTreeClassifier\n",
        "from sklearn.metrics import accuracy_score\n",
        "from sklearn import tree\n",
        "from numpy import set_printoptions\n",
        "from sklearn.feature_selection import SelectKBest\n",
        "from sklearn.feature_selection import chi2\n",
        "from sklearn.metrics import accuracy_score\n",
        "from sklearn.ensemble import RandomForestClassifier\n",
        "warnings.simplefilter(action='ignore', category=FutureWarning)\n",
        "%matplotlib inline"
      ],
      "metadata": {
        "id": "BtfwXpLdhZWa"
      },
      "execution_count": null,
      "outputs": []
    },
    {
      "cell_type": "code",
      "source": [
        ""
      ],
      "metadata": {
        "id": "qa4YJNHxhiQ_"
      },
      "execution_count": null,
      "outputs": []
    },
    {
      "cell_type": "code",
      "source": [
        "def generate_accuracy_and_heatmap(model, x, y):\n",
        "#     cm = confusion_matrix(y,model.predict(x))\n",
        "#     sns.heatmap(cm,annot=True,fmt=\"d\")\n",
        "    ac = accuracy_score(y,model.predict(x))\n",
        "    # f_score = f1_score(y,model.predict(x))\n",
        "    return ac\n",
        "    # print('F1 score is: ', f_score)\n",
        "    # print (\"\\n\")\n",
        "    # print (pd.crosstab(pd.Series(model.predict(x), name='Predicted'),\n",
        "    #                    pd.Series(y['Admit'],name='Actual')))\n",
        "    # return 1"
      ],
      "metadata": {
        "id": "exIaG7T9hldH"
      },
      "execution_count": null,
      "outputs": []
    },
    {
      "cell_type": "code",
      "source": [
        "target = \"Doctors_Treatment\""
      ],
      "metadata": {
        "id": "nNOBdqVghqwh"
      },
      "execution_count": null,
      "outputs": []
    },
    {
      "cell_type": "code",
      "source": [
        "X = df.loc[:, df.columns != target]\n",
        "Y = df.loc[:, df.columns == target]"
      ],
      "metadata": {
        "id": "qUD54tVohqzK"
      },
      "execution_count": null,
      "outputs": []
    },
    {
      "cell_type": "code",
      "source": [
        "x_train, x_test, y_train, y_test = train_test_split(X, Y, \n",
        "                                                    test_size=0.33, \n",
        "                                                    random_state=3)"
      ],
      "metadata": {
        "id": "YYV1rn3vhq1t"
      },
      "execution_count": null,
      "outputs": []
    },
    {
      "cell_type": "code",
      "source": [
        "test = SelectKBest(score_func=chi2, k=7)\n",
        "fit = test.fit(x_train,y_train)\n",
        "set_printoptions(precision=2)\n",
        "print(fit.scores_)\n",
        "featured_data = fit.transform(x_train)\n",
        "print (\"\\nFeatured data:\\n\", featured_data[0:4])"
      ],
      "metadata": {
        "id": "hLIbfbWchq3_"
      },
      "execution_count": null,
      "outputs": []
    },
    {
      "cell_type": "code",
      "source": [
        "rfecv.grid_scores_"
      ],
      "metadata": {
        "id": "ZtnPb4yOiRYY"
      },
      "execution_count": null,
      "outputs": []
    },
    {
      "cell_type": "code",
      "source": [
        "plt.figure()\n",
        "plt.xlabel(\"Number of features selected\")\n",
        "plt.ylabel(\"Cross validation score of number of selected features\")\n",
        "plt.plot(range(1, len(rfecv.grid_scores_) + 1), rfecv.grid_scores_)\n",
        "plt.show()"
      ],
      "metadata": {
        "id": "tLAyYFrmhq59"
      },
      "execution_count": null,
      "outputs": []
    },
    {
      "cell_type": "code",
      "source": [
        "x_train_rfecv = rfecv.transform(x_train)\n",
        "x_test_rfecv = rfecv.transform(x_test)"
      ],
      "metadata": {
        "id": "9FPDYbVghq8a"
      },
      "execution_count": null,
      "outputs": []
    },
    {
      "cell_type": "code",
      "source": [
        "clf = RandomForestClassifier( n_estimators=50)\n",
        "model = clf.fit(x_train,y_train)\n",
        "feat_importances = pd.DataFrame(model.feature_importances_, index=x_train.columns, columns=[\"Importance\"])\n",
        "feat_importances.sort_values(by='Importance', ascending=False, inplace=True)\n",
        "feat_importances.plot(kind='bar', color = \"green\")"
      ],
      "metadata": {
        "id": "sC1YzXGHhq-e"
      },
      "execution_count": null,
      "outputs": []
    },
    {
      "cell_type": "code",
      "source": [
        "clf = DecisionTreeClassifier()\n",
        "model = clf.fit(x_train,y_train)\n",
        "feat_importances = pd.DataFrame(model.feature_importances_, index=x_train.columns, columns=[\"Importance\"])\n",
        "feat_importances.sort_values(by='Importance', ascending=False, inplace=True)\n",
        "feat_importances.plot(kind='bar', color = \"green\")"
      ],
      "metadata": {
        "id": "SvCJBkMAhrAt"
      },
      "execution_count": null,
      "outputs": []
    },
    {
      "cell_type": "code",
      "source": [
        "from sklearn.ensemble import ExtraTreesClassifier\n",
        "import matplotlib.pyplot as plt\n",
        "model = ExtraTreesClassifier()\n",
        "model.fit(x_train,y_train)\n",
        "print(model.feature_importances_) \n",
        "feat_importances = pd.Series(model.feature_importances_, index=x.columns)\n",
        "feat_importances.nlargest(13).plot(kind='barh')\n",
        "plt.show()"
      ],
      "metadata": {
        "id": "j_0P4W1mhrDJ"
      },
      "execution_count": null,
      "outputs": []
    },
    {
      "cell_type": "code",
      "source": [
        ""
      ],
      "metadata": {
        "id": "EryH_yW1hrFx"
      },
      "execution_count": null,
      "outputs": []
    },
    {
      "cell_type": "code",
      "source": [
        ""
      ],
      "metadata": {
        "id": "01DTXf7uhrI7"
      },
      "execution_count": null,
      "outputs": []
    }
  ]
}